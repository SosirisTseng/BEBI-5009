{
 "cells": [
  {
   "cell_type": "markdown",
   "metadata": {},
   "source": [
    "# Gillespie Algorithm\n",
    "\n",
    "```julia\n",
    "import Pkg\n",
    "Pkg.add([\"Plots\", \"StatsBase\"])\n",
    "```"
   ]
  },
  {
   "cell_type": "code",
   "execution_count": null,
   "metadata": {},
   "outputs": [],
   "source": [
    "#=\n",
    "Stochastic chemical reaction: Gillespie Algorithm\n",
    "Adapted from: Chemical and Biomedical Enginnering Calculations Using Python Ch.4-3\n",
    "Reaction of A <-> B with rate constants k1 & k2\n",
    "=#\n",
    "\n",
    "using StatsBase, Random, Plots\n",
    "Plots.gr(fmt=:png)\n",
    "\n",
    "# Coded in the same manner as the Python counterpart\n",
    "struct Gillespie\n",
    "    propensityFuncs\n",
    "    actionFuncs\n",
    "    parameters\n",
    "end\n",
    "\n",
    "function (g::Gillespie)(u0, tend, tstart=zero(tend))\n",
    "    t = tstart\n",
    "    ts = [t]\n",
    "    u = copy(u0)\n",
    "    us = copy(transpose(u))\n",
    "    p = g.parameters\n",
    "    while t < tend\n",
    "        # propensities of reactions\n",
    "        ps = [f(u, p, t) for f in g.propensityFuncs]\n",
    "        pTotal = sum(ps)\n",
    "        dt = randexp() / pTotal\n",
    "        f = sample(g.actionFuncs, Weights(ps))\n",
    "        u = f(u, p, t)\n",
    "        t += dt\n",
    "        us = vcat(us, transpose(u))\n",
    "        push!(ts, t) # Record t\n",
    "    end\n",
    "    return (ts = ts, us = us)\n",
    "end"
   ]
  },
  {
   "cell_type": "code",
   "execution_count": null,
   "metadata": {},
   "outputs": [],
   "source": [
    "parameters = (k1=1.0, k2=0.5)\n",
    "propensityFuncs = [(u, p, t) -> p.k1 * u[1], (u, p, t) -> p.k2 * u[2]]\n",
    "actionFuncs = [(u, p, t) -> u .+ [-1, 1] , (u, p, t) -> u .+ [1, -1]]\n",
    "ssa = Gillespie(propensityFuncs, actionFuncs, parameters)"
   ]
  },
  {
   "cell_type": "code",
   "execution_count": null,
   "metadata": {},
   "outputs": [],
   "source": [
    "ts, us = ssa([175, 25], 10.0)"
   ]
  },
  {
   "cell_type": "code",
   "execution_count": null,
   "metadata": {},
   "outputs": [],
   "source": [
    "plot(ts, us, xlabel=\"time\", ylabel=\"# of molecules\", title = \"SSA\", label=[\"A\" \"B\"])"
   ]
  }
 ],
 "metadata": {
  "kernelspec": {
   "display_name": "Julia 1.5.2",
   "language": "julia",
   "name": "julia-1.5"
  },
  "language_info": {
   "file_extension": ".jl",
   "mimetype": "application/julia",
   "name": "julia",
   "version": "1.5.2"
  }
 },
 "nbformat": 4,
 "nbformat_minor": 4
}
