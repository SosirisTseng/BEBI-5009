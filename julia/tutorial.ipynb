{
 "cells": [
  {
   "cell_type": "markdown",
   "metadata": {},
   "source": [
    "# Julia tutorial\n",
    "\n",
    "https://github.com/NTUMitoLab/BEBI-5009\n",
    "\n",
    "**Reference**\n",
    "1. [Think Julia](https://benlauwens.github.io/ThinkJulia.jl/latest/book.html)\n",
    "2. [From zero to Julia](https://techytok.com/from-zero-to-julia/)\n",
    "3. [Julia cheat sheet](https://juliadocs.github.io/Julia-Cheat-Sheet/) if you are familiar with Python and/or MATLAB.\n",
    "4. [Official Julia Docs](https://docs.julialang.org/) for dictionary look-up.\n",
    "5. [Julia for Pythonistas](https://colab.research.google.com/github/ageron/julia_notebooks/blob/master/Julia_for_Pythonistas.ipynb)"
   ]
  },
  {
   "cell_type": "markdown",
   "metadata": {},
   "source": [
    "# Why Julia?\n",
    "\n",
    "- Python-like syntax\n",
    "- C-like speed (after you run for the 1st time)\n",
    "- Flexibility across packages\n",
    "- Most importantly, comprehensive toolbox for this course"
   ]
  },
  {
   "cell_type": "markdown",
   "metadata": {},
   "source": [
    "# Install and run Julia\n",
    "\n",
    "1. [Download Julia](https://julialang.org/downloads/). You could give version `1.6-rc1` a try because it loads much fater than previous versions.\n",
    "2. Open the Julia terminal and enter the following commands to install IJulia, the Julia kernel for Jupyter notebooks.\n",
    "\n",
    "```julia\n",
    "using Pkg\n",
    "\n",
    "pkg\"add IJulia\"\n",
    "```\n",
    "\n",
    "3. Run Jupyter Lab\n",
    "\n",
    "```julia\n",
    "using IJulia\n",
    "\n",
    "IJulia.jupyterlab()  # Will open at ${HOME}, that is \"C:\\Users\\yourname\\\" in Windows.\n",
    "```\n",
    "\n",
    "PS. Another recommendation is [VS Code](https://code.visualstudio.com/) with [Julia extension](https://www.julia-vscode.org/), more suitable for structured code."
   ]
  },
  {
   "cell_type": "markdown",
   "metadata": {},
   "source": [
    "# First steps\n",
    "\n",
    "## How to see the results\n",
    "\n",
    "`@show`,`println()`, `display()`, inline display for the last expression"
   ]
  },
  {
   "cell_type": "code",
   "execution_count": 1,
   "metadata": {},
   "outputs": [
    {
     "data": {
      "text/plain": [
       "\"Use display\""
      ]
     },
     "metadata": {},
     "output_type": "display_data"
    },
    {
     "name": "stdout",
     "output_type": "stream",
     "text": [
      "Using println\n",
      "123\n",
      "\"Using show\" = \"Using show\"\n",
      "(1 + 1, 2 - 2, 3 * 3) = (2, 0, 9)\n"
     ]
    },
    {
     "data": {
      "text/plain": [
       "\"Done\""
      ]
     },
     "execution_count": 1,
     "metadata": {},
     "output_type": "execute_result"
    }
   ],
   "source": [
    "# Comments: Screen output\n",
    "\n",
    "#=\n",
    "I'm multiline comments\n",
    "To demonstrate different types of outputs \n",
    "for different needs\n",
    "=#\n",
    "\n",
    "# Regular text output: println() and print()\n",
    "println(\"Using println\")\n",
    "println(1, 2, 3)\n",
    "\n",
    "# @show will print something like x = val\n",
    "@show \"Using show\"\n",
    "@show 1+1, 2-2, 3*3\n",
    "\n",
    "# display() for interactive use\n",
    "# the message will go to the top of the output cell\n",
    "display(\"Use display\")\n",
    "\n",
    "# Inline display of the last expression\n",
    "\"Done\""
   ]
  },
  {
   "cell_type": "markdown",
   "metadata": {},
   "source": [
    "## Assigning variables for later use\n",
    "\n",
    "Binding a name to a value : `x = val`.\n",
    "\n",
    "`val` could be a literal (numbers, string, symbols), a data structure, a type itself, a function, a module, etc. "
   ]
  },
  {
   "cell_type": "code",
   "execution_count": 2,
   "metadata": {},
   "outputs": [
    {
     "name": "stdout",
     "output_type": "stream",
     "text": [
      "(x, y) = (1, 2)\n",
      "z = 3\n"
     ]
    },
    {
     "data": {
      "text/plain": [
       "3.14"
      ]
     },
     "execution_count": 2,
     "metadata": {},
     "output_type": "execute_result"
    }
   ],
   "source": [
    "x = 1\n",
    "y = 2\n",
    "z = x + y\n",
    "\n",
    "@show x, y\n",
    "@show z\n",
    "\n",
    "# Constant variable, better optimized\n",
    "# and will give a warning (event an error) \n",
    "# if someone attempted to modify it\n",
    "const pi = 3.14"
   ]
  },
  {
   "cell_type": "markdown",
   "metadata": {},
   "source": [
    "## Special characters\n",
    "\n",
    "Type `\\xxx <space>` \n",
    "\n",
    "e.g. `\\pi <space>` => `π`"
   ]
  },
  {
   "cell_type": "code",
   "execution_count": 3,
   "metadata": {},
   "outputs": [
    {
     "data": {
      "text/plain": [
       "π = 3.1415926535897..."
      ]
     },
     "execution_count": 3,
     "metadata": {},
     "output_type": "execute_result"
    }
   ],
   "source": [
    "π"
   ]
  },
  {
   "cell_type": "markdown",
   "metadata": {},
   "source": [
    "## Binary operators"
   ]
  },
  {
   "cell_type": "code",
   "execution_count": 4,
   "metadata": {},
   "outputs": [
    {
     "name": "stdout",
     "output_type": "stream",
     "text": [
      "a + b = 5\n",
      "a - b = -1\n",
      "a * b = 6\n",
      "b / a = 1.5\n",
      "typeof(b / a) = Float64\n",
      "a ^ a = 4\n",
      "b % a = 1\n",
      "typeof(a ÷ b) = Int64\n",
      "a ÷ b = 0\n",
      "a // b = 2//3\n",
      "1.0e10 + 1.0 ≈ 1.0e10 = true\n",
      "convert(Float64, a) = 2.0\n"
     ]
    },
    {
     "data": {
      "text/plain": [
       "2.0"
      ]
     },
     "execution_count": 4,
     "metadata": {},
     "output_type": "execute_result"
    }
   ],
   "source": [
    "# Binary operators\n",
    "a = 2\n",
    "b = 3\n",
    "\n",
    "# Addition\n",
    "@show a + b\n",
    "\n",
    "# Substraction\n",
    "@show a - b\n",
    "\n",
    "# Multiplication\n",
    "@show a * b\n",
    "\n",
    "# Floating point Division\n",
    "@show b / a\n",
    "@show typeof(b / a)\n",
    "\n",
    "# Power\n",
    "@show a^a\n",
    "\n",
    "# Modulus\n",
    "@show b % a\n",
    "@show typeof(a÷b)\n",
    "\n",
    "# integer division: \\div <space>`, equivalent to div(a, b)`\n",
    "@show a÷b\n",
    "\n",
    "# rational number\n",
    "@show a//b      \n",
    "\n",
    "# Approximation `\\approx` for floats, equivalent to isapprox(a, b)`\n",
    "@show 1e10 + 1.0 ≈ 1e10\n",
    "\n",
    "# Convert to another type: `convert(T, x)` \n",
    "@show convert(Float64, a)"
   ]
  },
  {
   "cell_type": "markdown",
   "metadata": {},
   "source": [
    "## Frequently-used functions"
   ]
  },
  {
   "cell_type": "code",
   "execution_count": 5,
   "metadata": {},
   "outputs": [
    {
     "name": "stdout",
     "output_type": "stream",
     "text": [
      "sin(0.5π) = 1.0\n",
      "cos(0.5π) = 6.123233995736766e-17\n",
      "sqrt(π) = 1.7724538509055159\n",
      "log(10) = 2.302585092994046\n",
      "log10(10) = 1.0\n",
      "exp(-5) = 0.006737946999085467\n",
      "(exp(1.0e-10) - 1, expm1(1.0e-10)) = (1.000000082740371e-10, 1.00000000005e-10)\n",
      "rand() = 0.055627562473313796\n",
      "rand(1:6) = 6\n",
      "rand(\"Hello\") = 'l'\n"
     ]
    }
   ],
   "source": [
    "# Some math functions\n",
    "\n",
    "@show sin(0.5*π)\n",
    "@show cos(0.5*π)\n",
    "@show sqrt(π)\n",
    "@show log(10)\n",
    "@show log10(10)\n",
    "@show exp(-5)\n",
    "@show exp(1e-10)-1, expm1(1e-10)\n",
    "@show rand()\n",
    "@show rand(1:6)\n",
    "@show rand(\"Hello\");"
   ]
  },
  {
   "cell_type": "code",
   "execution_count": 6,
   "metadata": {},
   "outputs": [
    {
     "name": "stdout",
     "output_type": "stream",
     "text": [
      "search: \u001b[0m\u001b[1mr\u001b[22m\u001b[0m\u001b[1ma\u001b[22m\u001b[0m\u001b[1mn\u001b[22m\u001b[0m\u001b[1md\u001b[22m \u001b[0m\u001b[1mr\u001b[22m\u001b[0m\u001b[1ma\u001b[22m\u001b[0m\u001b[1mn\u001b[22m\u001b[0m\u001b[1md\u001b[22mn t\u001b[0m\u001b[1mr\u001b[22m\u001b[0m\u001b[1ma\u001b[22m\u001b[0m\u001b[1mn\u001b[22msco\u001b[0m\u001b[1md\u001b[22me mac\u001b[0m\u001b[1mr\u001b[22moexp\u001b[0m\u001b[1ma\u001b[22m\u001b[0m\u001b[1mn\u001b[22m\u001b[0m\u001b[1md\u001b[22m @mac\u001b[0m\u001b[1mr\u001b[22moexp\u001b[0m\u001b[1ma\u001b[22m\u001b[0m\u001b[1mn\u001b[22m\u001b[0m\u001b[1md\u001b[22m @mac\u001b[0m\u001b[1mr\u001b[22moexp\u001b[0m\u001b[1ma\u001b[22m\u001b[0m\u001b[1mn\u001b[22m\u001b[0m\u001b[1md\u001b[22m1\n",
      "\n"
     ]
    },
    {
     "data": {
      "text/latex": [
       "\\begin{verbatim}\n",
       "rand([rng=GLOBAL_RNG], [S], [dims...])\n",
       "\\end{verbatim}\n",
       "Pick a random element or array of random elements from the set of values specified by \\texttt{S}; \\texttt{S} can be\n",
       "\n",
       "\\begin{itemize}\n",
       "\\item an indexable collection (for example \\texttt{1:9} or \\texttt{('x', \"y\", :z)}),\n",
       "\n",
       "\n",
       "\\item an \\texttt{AbstractDict} or \\texttt{AbstractSet} object,\n",
       "\n",
       "\n",
       "\\item a string (considered as a collection of characters), or\n",
       "\n",
       "\n",
       "\\item a type: the set of values to pick from is then equivalent to \\texttt{typemin(S):typemax(S)} for integers (this is not applicable to \\href{@ref}{\\texttt{BigInt}}), to $[0, 1)$ for floating point numbers and to $[0, 1)+i[0, 1)$ for complex floating point numbers;\n",
       "\n",
       "\\end{itemize}\n",
       "\\texttt{S} defaults to \\href{@ref}{\\texttt{Float64}}. When only one argument is passed besides the optional \\texttt{rng} and is a \\texttt{Tuple}, it is interpreted as a collection of values (\\texttt{S}) and not as \\texttt{dims}.\n",
       "\n",
       "\\begin{quote}\n",
       "\\textbf{compat}\n",
       "\n",
       "Julia 1.1\n",
       "\n",
       "Support for \\texttt{S} as a tuple requires at least Julia 1.1.\n",
       "\n",
       "\\end{quote}\n",
       "\\section{Examples}\n",
       "\\begin{verbatim}\n",
       "julia> rand(Int, 2)\n",
       "2-element Array{Int64,1}:\n",
       " 1339893410598768192\n",
       " 1575814717733606317\n",
       "\n",
       "julia> using Random\n",
       "\n",
       "julia> rand(MersenneTwister(0), Dict(1=>2, 3=>4))\n",
       "1=>2\n",
       "\n",
       "julia> rand((2, 3))\n",
       "3\n",
       "\n",
       "julia> rand(Float64, (2, 3))\n",
       "2×3 Array{Float64,2}:\n",
       " 0.999717  0.0143835  0.540787\n",
       " 0.696556  0.783855   0.938235\n",
       "\\end{verbatim}\n",
       "\\begin{quote}\n",
       "\\textbf{note}\n",
       "\n",
       "Note\n",
       "\n",
       "The complexity of \\texttt{rand(rng, s::Union\\{AbstractDict,AbstractSet\\})} is linear in the length of \\texttt{s}, unless an optimized method with constant complexity is available, which is the case for \\texttt{Dict}, \\texttt{Set} and \\texttt{BitSet}. For more than a few calls, use \\texttt{rand(rng, collect(s))} instead, or either \\texttt{rand(rng, Dict(s))} or \\texttt{rand(rng, Set(s))} as appropriate.\n",
       "\n",
       "\\end{quote}\n"
      ],
      "text/markdown": [
       "```\n",
       "rand([rng=GLOBAL_RNG], [S], [dims...])\n",
       "```\n",
       "\n",
       "Pick a random element or array of random elements from the set of values specified by `S`; `S` can be\n",
       "\n",
       "  * an indexable collection (for example `1:9` or `('x', \"y\", :z)`),\n",
       "  * an `AbstractDict` or `AbstractSet` object,\n",
       "  * a string (considered as a collection of characters), or\n",
       "  * a type: the set of values to pick from is then equivalent to `typemin(S):typemax(S)` for integers (this is not applicable to [`BigInt`](@ref)), to $[0, 1)$ for floating point numbers and to $[0, 1)+i[0, 1)$ for complex floating point numbers;\n",
       "\n",
       "`S` defaults to [`Float64`](@ref). When only one argument is passed besides the optional `rng` and is a `Tuple`, it is interpreted as a collection of values (`S`) and not as `dims`.\n",
       "\n",
       "!!! compat \"Julia 1.1\"\n",
       "    Support for `S` as a tuple requires at least Julia 1.1.\n",
       "\n",
       "\n",
       "# Examples\n",
       "\n",
       "```julia-repl\n",
       "julia> rand(Int, 2)\n",
       "2-element Array{Int64,1}:\n",
       " 1339893410598768192\n",
       " 1575814717733606317\n",
       "\n",
       "julia> using Random\n",
       "\n",
       "julia> rand(MersenneTwister(0), Dict(1=>2, 3=>4))\n",
       "1=>2\n",
       "\n",
       "julia> rand((2, 3))\n",
       "3\n",
       "\n",
       "julia> rand(Float64, (2, 3))\n",
       "2×3 Array{Float64,2}:\n",
       " 0.999717  0.0143835  0.540787\n",
       " 0.696556  0.783855   0.938235\n",
       "```\n",
       "\n",
       "!!! note\n",
       "    The complexity of `rand(rng, s::Union{AbstractDict,AbstractSet})` is linear in the length of `s`, unless an optimized method with constant complexity is available, which is the case for `Dict`, `Set` and `BitSet`. For more than a few calls, use `rand(rng, collect(s))` instead, or either `rand(rng, Dict(s))` or `rand(rng, Set(s))` as appropriate.\n",
       "\n"
      ],
      "text/plain": [
       "  \u001b[38;2;102;217;239mrand\u001b[0m(\u001b[0m\u001b[39m[\u001b[0m\u001b[39mrng\u001b[0m\u001b[38;2;249;38;114m=\u001b[0m\u001b[39mGLOBAL_RNG\u001b[0m\u001b[39m]\u001b[0m\u001b[39m,\u001b[0m \u001b[0m\u001b[39m[\u001b[0m\u001b[39mS\u001b[0m\u001b[39m]\u001b[0m\u001b[39m,\u001b[0m \u001b[0m\u001b[39m[\u001b[0m\u001b[39mdims\u001b[0m\u001b[38;2;249;38;114m...\u001b[0m\u001b[39m]\u001b[0m\u001b[39m)\u001b[0m\u001b[39m\u001b[0m\n",
       "\n",
       "\n",
       "  Pick a random element or array of random elements from the set of values\n",
       "  specified by \u001b[36mS\u001b[39m; \u001b[36mS\u001b[39m can be\n",
       "\n",
       "    •    an indexable collection (for example \u001b[36m1:9\u001b[39m or \u001b[36m('x', \"y\", :z)\u001b[39m),\n",
       "\n",
       "    •    an \u001b[36mAbstractDict\u001b[39m or \u001b[36mAbstractSet\u001b[39m object,\n",
       "\n",
       "    •    a string (considered as a collection of characters), or\n",
       "\n",
       "    •    a type: the set of values to pick from is then equivalent to\n",
       "        \u001b[36mtypemin(S):typemax(S)\u001b[39m for integers (this is not applicable to\n",
       "        \u001b[36mBigInt\u001b[39m), to \u001b[35m[0, 1)\u001b[39m for floating point numbers and to \u001b[35m[0, 1)+i[0,\n",
       "        1)\u001b[39m for complex floating point numbers;\n",
       "\n",
       "  \u001b[36mS\u001b[39m defaults to \u001b[36mFloat64\u001b[39m. When only one argument is passed besides the optional\n",
       "  \u001b[36mrng\u001b[39m and is a \u001b[36mTuple\u001b[39m, it is interpreted as a collection of values (\u001b[36mS\u001b[39m) and not\n",
       "  as \u001b[36mdims\u001b[39m.\n",
       "\n",
       "\u001b[39m\u001b[1m  │ \u001b[22m\u001b[39m\u001b[1mJulia 1.1\u001b[22m\n",
       "\u001b[39m\u001b[1m  │\u001b[22m\n",
       "\u001b[39m\u001b[1m  │\u001b[22m  Support for \u001b[36mS\u001b[39m as a tuple requires at least Julia 1.1.\n",
       "\n",
       "\u001b[1m  Examples\u001b[22m\n",
       "\u001b[1m  ≡≡≡≡≡≡≡≡≡≡\u001b[22m\n",
       "\n",
       "  \u001b[31;1mjulia> \u001b[0m\u001b[38;2;102;217;239mrand\u001b[0m(\u001b[0m\u001b[39mInt\u001b[0m\u001b[39m,\u001b[0m \u001b[0m\u001b[38;2;174;129;255m2\u001b[0m\u001b[39m)\u001b[0m\n",
       "  \u001b[0m\u001b[39m\u001b[0m2-element Array{Int64,1}:\n",
       "   1339893410598768192\n",
       "   1575814717733606317\n",
       "  \n",
       "  \u001b[31;1mjulia> \u001b[0m\u001b[38;2;249;38;114musing\u001b[0m \u001b[0m\u001b[39mRandom\u001b[0m\n",
       "  \u001b[0m\u001b[39m\u001b[0m\n",
       "  \u001b[31;1mjulia> \u001b[0m\u001b[38;2;102;217;239mrand\u001b[0m(\u001b[0m\u001b[38;2;102;217;239mMersenneTwister\u001b[0m(\u001b[0m\u001b[38;2;174;129;255m0\u001b[0m\u001b[39m)\u001b[0m\u001b[39m,\u001b[0m \u001b[0m\u001b[38;2;102;217;239mDict\u001b[0m(\u001b[0m\u001b[38;2;174;129;255m1\u001b[0m\u001b[38;2;249;38;114m=>\u001b[0m\u001b[38;2;174;129;255m2\u001b[0m\u001b[39m,\u001b[0m \u001b[0m\u001b[38;2;174;129;255m3\u001b[0m\u001b[38;2;249;38;114m=>\u001b[0m\u001b[38;2;174;129;255m4\u001b[0m\u001b[39m)\u001b[0m\u001b[39m)\u001b[0m\n",
       "  \u001b[0m\u001b[39m\u001b[0m1=>2\n",
       "  \n",
       "  \u001b[31;1mjulia> \u001b[0m\u001b[38;2;102;217;239mrand\u001b[0m(\u001b[0m(\u001b[0m\u001b[38;2;174;129;255m2\u001b[0m\u001b[39m,\u001b[0m \u001b[0m\u001b[38;2;174;129;255m3\u001b[0m\u001b[39m)\u001b[0m\u001b[39m)\u001b[0m\n",
       "  \u001b[0m\u001b[39m\u001b[0m3\n",
       "  \n",
       "  \u001b[31;1mjulia> \u001b[0m\u001b[38;2;102;217;239mrand\u001b[0m(\u001b[0m\u001b[39mFloat64\u001b[0m\u001b[39m,\u001b[0m \u001b[0m(\u001b[0m\u001b[38;2;174;129;255m2\u001b[0m\u001b[39m,\u001b[0m \u001b[0m\u001b[38;2;174;129;255m3\u001b[0m\u001b[39m)\u001b[0m\u001b[39m)\u001b[0m\n",
       "  \u001b[0m\u001b[39m\u001b[0m2×3 Array{Float64,2}:\n",
       "   0.999717  0.0143835  0.540787\n",
       "   0.696556  0.783855   0.938235\n",
       "\n",
       "\n",
       "\u001b[36m\u001b[1m  │ \u001b[22m\u001b[39m\u001b[36m\u001b[1mNote\u001b[22m\u001b[39m\n",
       "\u001b[36m\u001b[1m  │\u001b[22m\u001b[39m\n",
       "\u001b[36m\u001b[1m  │\u001b[22m\u001b[39m  The complexity of \u001b[36mrand(rng, s::Union{AbstractDict,AbstractSet})\u001b[39m is\n",
       "\u001b[36m\u001b[1m  │\u001b[22m\u001b[39m  linear in the length of \u001b[36ms\u001b[39m, unless an optimized method with\n",
       "\u001b[36m\u001b[1m  │\u001b[22m\u001b[39m  constant complexity is available, which is the case for \u001b[36mDict\u001b[39m, \u001b[36mSet\u001b[39m\n",
       "\u001b[36m\u001b[1m  │\u001b[22m\u001b[39m  and \u001b[36mBitSet\u001b[39m. For more than a few calls, use \u001b[36mrand(rng, collect(s))\u001b[39m\n",
       "\u001b[36m\u001b[1m  │\u001b[22m\u001b[39m  instead, or either \u001b[36mrand(rng, Dict(s))\u001b[39m or \u001b[36mrand(rng, Set(s))\u001b[39m as\n",
       "\u001b[36m\u001b[1m  │\u001b[22m\u001b[39m  appropriate."
      ]
     },
     "execution_count": 6,
     "metadata": {},
     "output_type": "execute_result"
    }
   ],
   "source": [
    "?rand"
   ]
  },
  {
   "cell_type": "markdown",
   "metadata": {},
   "source": [
    "## String manipulation \n",
    "\n",
    "See: https://benlauwens.github.io/ThinkJulia.jl/latest/book.html#chap08\n",
    "\n",
    "A `string` is a sequence of characters.\n",
    "\n",
    "* `''` for one character\n",
    "* `\" ... \"` for one line strings\n",
    "* `\"\"\" ....  \"\"\"` for multiline strings\n",
    "* `str1*str2` or `string(str1, str2)` to concatenate strings (the latter is recommended for it's more general and works not only in strings but also anything can turn into strings (e.g. numbers))\n",
    "* `^` to repeat a string: `str^3`\n",
    "* `[i]` to access individual character\n",
    "* `$` to insert values into a string\n",
    "* `string(a, b)` to convert a and b into strings and concatenate them"
   ]
  },
  {
   "cell_type": "code",
   "execution_count": 7,
   "metadata": {},
   "outputs": [
    {
     "name": "stdout",
     "output_type": "stream",
     "text": [
      "'a' == \"a\" = false\n"
     ]
    },
    {
     "name": "stderr",
     "output_type": "stream",
     "text": [
      "┌ Info:  \n",
      "│ Multiline\n",
      "│ string\n",
      "│ is here\n",
      "└ @ Main In[7]:3\n"
     ]
    }
   ],
   "source": [
    "@show 'a' == \"a\"\n",
    "\n",
    "@info \"\"\" \n",
    "Multiline\n",
    "string\n",
    "is here\n",
    "\"\"\""
   ]
  },
  {
   "cell_type": "code",
   "execution_count": 8,
   "metadata": {},
   "outputs": [
    {
     "data": {
      "text/plain": [
       "\"The class is BEBI-5009\""
      ]
     },
     "execution_count": 8,
     "metadata": {},
     "output_type": "execute_result"
    }
   ],
   "source": [
    "str1 = \"BEBI\"\n",
    "\n",
    "str2 = \"5009\"\n",
    "\n",
    "string(\"The class is \", str1, '-', str2)"
   ]
  },
  {
   "cell_type": "code",
   "execution_count": 9,
   "metadata": {},
   "outputs": [
    {
     "data": {
      "text/plain": [
       "\"The class is BEBI-5009\""
      ]
     },
     "execution_count": 9,
     "metadata": {},
     "output_type": "execute_result"
    }
   ],
   "source": [
    "\"The class is $str1-$str2\""
   ]
  },
  {
   "cell_type": "code",
   "execution_count": 10,
   "metadata": {},
   "outputs": [
    {
     "name": "stdout",
     "output_type": "stream",
     "text": [
      "The class is BEBI-5009\n"
     ]
    }
   ],
   "source": [
    "println(\"The class is \", str1, '-', str2)"
   ]
  },
  {
   "cell_type": "code",
   "execution_count": 11,
   "metadata": {},
   "outputs": [
    {
     "data": {
      "text/plain": [
       "'E': ASCII/Unicode U+0045 (category Lu: Letter, uppercase)"
      ]
     },
     "execution_count": 11,
     "metadata": {},
     "output_type": "execute_result"
    }
   ],
   "source": [
    "str1[2]"
   ]
  },
  {
   "cell_type": "code",
   "execution_count": 12,
   "metadata": {},
   "outputs": [
    {
     "data": {
      "text/plain": [
       "\"BEBIBEBIBEBI\""
      ]
     },
     "execution_count": 12,
     "metadata": {},
     "output_type": "execute_result"
    }
   ],
   "source": [
    "str1^3"
   ]
  },
  {
   "cell_type": "code",
   "execution_count": 13,
   "metadata": {},
   "outputs": [
    {
     "data": {
      "text/plain": [
       "\"BEBI5009\""
      ]
     },
     "execution_count": 13,
     "metadata": {},
     "output_type": "execute_result"
    }
   ],
   "source": [
    "str1*str2"
   ]
  },
  {
   "cell_type": "markdown",
   "metadata": {},
   "source": [
    "# Controlling the flow of execution\n",
    "\n",
    "## `if` clause\n",
    "\n",
    "```julia\n",
    "if cond1\n",
    "    exe1\n",
    "elseif cond2\n",
    "    exe2\n",
    "else\n",
    "    exe3\n",
    "end\n",
    "```"
   ]
  },
  {
   "cell_type": "code",
   "execution_count": 14,
   "metadata": {},
   "outputs": [
    {
     "name": "stdout",
     "output_type": "stream",
     "text": [
      "scroe is 65.07482448776685\n",
      "Okay\n"
     ]
    }
   ],
   "source": [
    "score = 30 + 70 * rand()\n",
    "\n",
    "println(\"scroe is \", score)\n",
    "\n",
    "if 80 < score <= 100\n",
    "  println(\"Good\")\n",
    "elseif 60 < score <= 80\n",
    "  println(\"Okay\")\n",
    "else\n",
    "  println(\"Uh-Oh\")\n",
    "end"
   ]
  },
  {
   "cell_type": "markdown",
   "metadata": {},
   "source": [
    "## Iterations (Loops)\n",
    "\n",
    "**while** loops\n",
    "\n",
    "```julia\n",
    "while cond\n",
    "    # code here\n",
    "end\n",
    "```\n",
    "\n",
    "**for** loops\n",
    "\n",
    "```julia\n",
    "for x in sequence\n",
    "    # process x\n",
    "end\n",
    "```\n",
    "\n",
    "* Use `break` to exit the loop\n",
    "* Use `continue` to jump to the next `x` or `cond`\n",
    "* Use `start[:step]:end` for ranges (end-inclusive)"
   ]
  },
  {
   "cell_type": "code",
   "execution_count": 15,
   "metadata": {},
   "outputs": [
    {
     "name": "stdout",
     "output_type": "stream",
     "text": [
      "Sum of 1 to 100 is 5050\n"
     ]
    }
   ],
   "source": [
    "s = 0\n",
    "\n",
    "for i in 1:100\n",
    "  s = s + i\n",
    "end\n",
    "\n",
    "println(\"Sum of 1 to 100 is \", s)"
   ]
  },
  {
   "cell_type": "code",
   "execution_count": 16,
   "metadata": {},
   "outputs": [
    {
     "name": "stdout",
     "output_type": "stream",
     "text": [
      "The length of hailstone sequence for 217503 is 155\n"
     ]
    }
   ],
   "source": [
    "n = rand(1:1000000)\n",
    "print(\"The length of hailstone sequence for \", n, \" is \")\n",
    "\n",
    "step = 0\n",
    "\n",
    "# Hailstone sequence (3n+1 problem)\n",
    "while n != 1\n",
    "  if n % 2 == 0\n",
    "    n = n÷2\n",
    "  else\n",
    "    n = 3n+1\n",
    "  end\n",
    "  step = step + 1\n",
    "end\n",
    "\n",
    "println(step)"
   ]
  },
  {
   "cell_type": "markdown",
   "metadata": {},
   "source": [
    "# Functions\n",
    "\n",
    "For code reuse and encapsulating algorithms.\n",
    "\n",
    "* Formal definition. `x` can be 0 - multiple arguments.\n",
    "\n",
    "```julia\n",
    "function f(x)\n",
    "    ....\n",
    "end\n",
    "```\n",
    "\n",
    "* one-liner functions\n",
    "\n",
    "```julia\n",
    "f(x) = ....\n",
    "```\n",
    "\n",
    "* anonymous functions\n",
    "\n",
    "```julia\n",
    "x -> ....\n",
    "```"
   ]
  },
  {
   "cell_type": "code",
   "execution_count": 17,
   "metadata": {},
   "outputs": [
    {
     "data": {
      "text/plain": [
       "hillr"
      ]
     },
     "execution_count": 17,
     "metadata": {},
     "output_type": "execute_result"
    }
   ],
   "source": [
    "\"Mechaelis-Menton function\"  # Function documentations\n",
    "function mm(x, k)\n",
    "  result = x / (x +k)\n",
    "  return result              # With explicit return statement\n",
    "end\n",
    "\n",
    "\"Repressive Mechaelis-Menton function\"\n",
    "function mmr(x, k)\n",
    "  mm(k, x)                   # Implicitly returns the last statement, not recommended\n",
    "end\n",
    "\n",
    "\"Hill function\"\n",
    "hill(x, k, n) = mm(x^n, k^n)  # simple function are best for one-liners\n",
    "\n",
    "\"Repressive hill function\"\n",
    "hillr = (x, k, n) -> hill(k, x, n)  # Usually for single use (e.g. inside map()) only"
   ]
  },
  {
   "cell_type": "code",
   "execution_count": 18,
   "metadata": {},
   "outputs": [
    {
     "data": {
      "text/plain": [
       "5-element Array{Int64,1}:\n",
       "  1\n",
       "  4\n",
       "  9\n",
       " 16\n",
       " 25"
      ]
     },
     "execution_count": 18,
     "metadata": {},
     "output_type": "execute_result"
    }
   ],
   "source": [
    "# Example for anonymous functions\n",
    "# map(f, seq) takes a function and a sequence\n",
    "\n",
    "map(x -> x^2, 1:5)"
   ]
  },
  {
   "cell_type": "markdown",
   "metadata": {},
   "source": [
    "**Optional arguments**\n",
    "\n",
    "https://techytok.com/lesson-functions/#optional-positional-arguments\n",
    "\n",
    "```julia\n",
    "function func(a, b, c=1)\n",
    "...\n",
    "end\n",
    "```\n",
    "\n",
    "**Keyword arguments**\n",
    "\n",
    "https://techytok.com/lesson-functions/#keyword-arguments\n",
    "\n",
    "```julia\n",
    "function func(a, b; c=1)\n",
    "    ...\n",
    "end\n",
    "```"
   ]
  },
  {
   "cell_type": "markdown",
   "metadata": {},
   "source": [
    "# Sequencial objects and Data Structures\n",
    "\n",
    "https://techytok.com/lesson-data-structures/\n",
    "\n",
    "* **1**-based indexing\n",
    "* `length(seq)` to get the size of seq\n",
    "* `[]` to access elements in sequences (arrays, dictionaries, tuples)\n",
    "    * `[start:step:end]` to access a slie of a sequences (not for dictionaries)\n",
    "* Empty arrays and dictionaries may have element type of `Any` and thus slower speed.\n",
    "* Use `...` to splatting (unpack) arrays / tuples and pass its arguments to a function\n",
    "* Objects may share memory space, beware changing values accidentally\n",
    "* Dot syntax (e.g. `a .+ b`) for element-wise (broadcasting) operations"
   ]
  },
  {
   "cell_type": "markdown",
   "metadata": {},
   "source": [
    "## Ranges\n",
    "\n",
    "Low-cost alternative to full arrays if the sequence is evenly spaced."
   ]
  },
  {
   "cell_type": "code",
   "execution_count": 19,
   "metadata": {},
   "outputs": [
    {
     "data": {
      "text/plain": [
       "1.0:0.09090909090909091:10.0"
      ]
     },
     "execution_count": 19,
     "metadata": {},
     "output_type": "execute_result"
    }
   ],
   "source": [
    "# Julia's linspace()\n",
    "range(1, 10, length=100)"
   ]
  },
  {
   "cell_type": "code",
   "execution_count": 20,
   "metadata": {},
   "outputs": [
    {
     "data": {
      "text/plain": [
       "1:2:9"
      ]
     },
     "execution_count": 20,
     "metadata": {},
     "output_type": "execute_result"
    }
   ],
   "source": [
    "r1 = 1:2:9  # Lazy evaluation to save mem/CPU"
   ]
  },
  {
   "cell_type": "code",
   "execution_count": 21,
   "metadata": {},
   "outputs": [
    {
     "name": "stdout",
     "output_type": "stream",
     "text": [
      "length(r1) = 5\n"
     ]
    },
    {
     "data": {
      "text/plain": [
       "5"
      ]
     },
     "execution_count": 21,
     "metadata": {},
     "output_type": "execute_result"
    }
   ],
   "source": [
    "@show length(r1)"
   ]
  },
  {
   "cell_type": "code",
   "execution_count": 22,
   "metadata": {},
   "outputs": [
    {
     "data": {
      "text/plain": [
       "5-element Array{Int64,1}:\n",
       " 1\n",
       " 3\n",
       " 5\n",
       " 7\n",
       " 9"
      ]
     },
     "execution_count": 22,
     "metadata": {},
     "output_type": "execute_result"
    }
   ],
   "source": [
    "collect(r1)  # Until it's really needed (e.g. converting to arrays)"
   ]
  },
  {
   "cell_type": "code",
   "execution_count": 23,
   "metadata": {},
   "outputs": [
    {
     "data": {
      "text/plain": [
       "7-element Array{Float64,1}:\n",
       "    0.001\n",
       "    0.01\n",
       "    0.1\n",
       "    1.0\n",
       "   10.0\n",
       "  100.0\n",
       " 1000.0"
      ]
     },
     "execution_count": 23,
     "metadata": {},
     "output_type": "execute_result"
    }
   ],
   "source": [
    "# Julia's logspace\n",
    "# Using dot syntax for element-wise (broadcasting) operations \n",
    "exp10.(-3.0:3.0)"
   ]
  },
  {
   "cell_type": "markdown",
   "metadata": {},
   "source": [
    "## Arrays\n",
    "\n",
    "The bread and butter for scientific computing. Similar to `numpy`'s `ndarrays`.\n",
    "\n",
    "But with some caveats:\n",
    "* 1-based indexing\n",
    "* Column-major (like Fortran) instead of C-style row-major"
   ]
  },
  {
   "cell_type": "code",
   "execution_count": 24,
   "metadata": {},
   "outputs": [
    {
     "data": {
      "text/plain": [
       "3-element Array{Int64,1}:\n",
       " 5\n",
       " 6\n",
       " 7"
      ]
     },
     "execution_count": 24,
     "metadata": {},
     "output_type": "execute_result"
    }
   ],
   "source": [
    "# 1D array (column vector)\n",
    "x = [5, 6, 7]"
   ]
  },
  {
   "cell_type": "code",
   "execution_count": 25,
   "metadata": {},
   "outputs": [
    {
     "data": {
      "text/plain": [
       "2×3 Array{Int64,2}:\n",
       " 1  2  3\n",
       " 4  5  6"
      ]
     },
     "execution_count": 25,
     "metadata": {},
     "output_type": "execute_result"
    }
   ],
   "source": [
    "# 2D array (matrix)\n",
    "A = [1 2 3;\n",
    "     4 5 6]  "
   ]
  },
  {
   "cell_type": "code",
   "execution_count": 26,
   "metadata": {},
   "outputs": [
    {
     "name": "stdout",
     "output_type": "stream",
     "text": [
      "A * x = [38, 92]\n"
     ]
    },
    {
     "data": {
      "text/plain": [
       "2-element Array{Int64,1}:\n",
       " 38\n",
       " 92"
      ]
     },
     "execution_count": 26,
     "metadata": {},
     "output_type": "execute_result"
    }
   ],
   "source": [
    "# Matrix-vector multiplication\n",
    "@show A*x"
   ]
  },
  {
   "cell_type": "code",
   "execution_count": 27,
   "metadata": {},
   "outputs": [
    {
     "name": "stdout",
     "output_type": "stream",
     "text": [
      "A \\ b = [5.000000000000002, 6.0, 6.999999999999997]\n"
     ]
    },
    {
     "data": {
      "text/plain": [
       "3-element Array{Float64,1}:\n",
       " 5.000000000000002\n",
       " 6.0\n",
       " 6.999999999999997"
      ]
     },
     "execution_count": 27,
     "metadata": {},
     "output_type": "execute_result"
    }
   ],
   "source": [
    "# Find the solution of x of Ax = b\n",
    "# Using left division operator `/`\n",
    "b = [38, 92]\n",
    "@show A\\b  # Should be approximately [5, 6, 7]"
   ]
  },
  {
   "cell_type": "code",
   "execution_count": 28,
   "metadata": {},
   "outputs": [
    {
     "name": "stdout",
     "output_type": "stream",
     "text": [
      "vec(A) = [1, 4, 2, 5, 3, 6]\n"
     ]
    },
    {
     "data": {
      "text/plain": [
       "6-element Array{Int64,1}:\n",
       " 1\n",
       " 4\n",
       " 2\n",
       " 5\n",
       " 3\n",
       " 6"
      ]
     },
     "execution_count": 28,
     "metadata": {},
     "output_type": "execute_result"
    }
   ],
   "source": [
    "# convert `arr` to an 1D array (i.e. vectors)\n",
    "\n",
    "@show vec(A)"
   ]
  },
  {
   "cell_type": "code",
   "execution_count": 29,
   "metadata": {},
   "outputs": [
    {
     "data": {
      "text/plain": [
       "3-element Array{Int64,1}:\n",
       " 5\n",
       " 6\n",
       " 7"
      ]
     },
     "execution_count": 29,
     "metadata": {},
     "output_type": "execute_result"
    }
   ],
   "source": [
    "# Arrays are mutable (i.e. you can replace the contents)\n",
    "\n",
    "b = copy(x)  # Make a copy to preserve the original"
   ]
  },
  {
   "cell_type": "code",
   "execution_count": 30,
   "metadata": {},
   "outputs": [
    {
     "name": "stdout",
     "output_type": "stream",
     "text": [
      "b = [0, 6, 7]\n"
     ]
    },
    {
     "data": {
      "text/plain": [
       "3-element Array{Int64,1}:\n",
       " 0\n",
       " 6\n",
       " 7"
      ]
     },
     "execution_count": 30,
     "metadata": {},
     "output_type": "execute_result"
    }
   ],
   "source": [
    "b[1] = 0\n",
    "@show b"
   ]
  },
  {
   "cell_type": "code",
   "execution_count": 31,
   "metadata": {},
   "outputs": [
    {
     "data": {
      "text/plain": [
       "4-element Array{Int64,1}:\n",
       "  0\n",
       "  6\n",
       "  7\n",
       " 10"
      ]
     },
     "execution_count": 31,
     "metadata": {},
     "output_type": "execute_result"
    }
   ],
   "source": [
    "# append `x` at the end of `arr`\n",
    "append!(b, 10)"
   ]
  },
  {
   "cell_type": "markdown",
   "metadata": {},
   "source": [
    "## Tuples\n",
    "\n",
    "* Immutable (you could not replace the elements)\n",
    "* Stack-allocated, faster than arrays in short sequences"
   ]
  },
  {
   "cell_type": "code",
   "execution_count": 32,
   "metadata": {},
   "outputs": [
    {
     "name": "stdout",
     "output_type": "stream",
     "text": [
      "a[1] = 1\n"
     ]
    },
    {
     "data": {
      "text/plain": [
       "1"
      ]
     },
     "execution_count": 32,
     "metadata": {},
     "output_type": "execute_result"
    }
   ],
   "source": [
    "a = (1, 2, 3)\n",
    "\n",
    "@show a[1]"
   ]
  },
  {
   "cell_type": "code",
   "execution_count": 33,
   "metadata": {},
   "outputs": [
    {
     "ename": "LoadError",
     "evalue": "MethodError: no method matching setindex!(::Tuple{Int64,Int64,Int64}, ::Int64, ::Int64)",
     "output_type": "error",
     "traceback": [
      "MethodError: no method matching setindex!(::Tuple{Int64,Int64,Int64}, ::Int64, ::Int64)",
      "",
      "Stacktrace:",
      " [1] top-level scope at In[33]:1",
      " [2] include_string(::Function, ::Module, ::String, ::String) at .\\loading.jl:1091",
      " [3] execute_code(::String, ::String) at C:\\Users\\sosiristseng\\.julia\\packages\\IJulia\\rWZ9e\\src\\execute_request.jl:27",
      " [4] execute_request(::ZMQ.Socket, ::IJulia.Msg) at C:\\Users\\sosiristseng\\.julia\\packages\\IJulia\\rWZ9e\\src\\execute_request.jl:86",
      " [5] #invokelatest#1 at .\\essentials.jl:710 [inlined]",
      " [6] invokelatest at .\\essentials.jl:709 [inlined]",
      " [7] eventloop(::ZMQ.Socket) at C:\\Users\\sosiristseng\\.julia\\packages\\IJulia\\rWZ9e\\src\\eventloop.jl:8",
      " [8] (::IJulia.var\"#15#18\")() at .\\task.jl:356"
     ]
    }
   ],
   "source": [
    "a[1] = 0  # (you could not replace the elements)"
   ]
  },
  {
   "cell_type": "code",
   "execution_count": 34,
   "metadata": {},
   "outputs": [
    {
     "data": {
      "text/plain": [
       "(1, 2, 3)"
      ]
     },
     "execution_count": 34,
     "metadata": {},
     "output_type": "execute_result"
    }
   ],
   "source": [
    "tuple(1, 2, 3)"
   ]
  },
  {
   "cell_type": "code",
   "execution_count": 35,
   "metadata": {},
   "outputs": [
    {
     "data": {
      "text/plain": [
       "(1, 2, 3)"
      ]
     },
     "execution_count": 35,
     "metadata": {},
     "output_type": "execute_result"
    }
   ],
   "source": [
    "# Splat operator ... to unfold a sequence to a series of arguments\n",
    "# Slow at long sequence\n",
    "tuple([1, 2, 3]...)"
   ]
  },
  {
   "cell_type": "code",
   "execution_count": 36,
   "metadata": {},
   "outputs": [
    {
     "data": {
      "text/plain": [
       "(4, 5, 6)"
      ]
     },
     "execution_count": 36,
     "metadata": {},
     "output_type": "execute_result"
    }
   ],
   "source": [
    "# Returns multiple values in a function\n",
    "function return_multiple()\n",
    "    return (4, 5, 6)\n",
    "end\n",
    "\n",
    "return_multiple()"
   ]
  },
  {
   "cell_type": "markdown",
   "metadata": {},
   "source": [
    "## Namedtuples\n",
    "\n",
    "Tuples with named fields so you dont't have to remember the index number."
   ]
  },
  {
   "cell_type": "code",
   "execution_count": 37,
   "metadata": {},
   "outputs": [
    {
     "data": {
      "text/plain": [
       "(a = 1, b = 2, c = 4)"
      ]
     },
     "execution_count": 37,
     "metadata": {},
     "output_type": "execute_result"
    }
   ],
   "source": [
    "nt = (a=1, b=2, c=4)"
   ]
  },
  {
   "cell_type": "code",
   "execution_count": 38,
   "metadata": {},
   "outputs": [
    {
     "data": {
      "text/plain": [
       "true"
      ]
     },
     "execution_count": 38,
     "metadata": {},
     "output_type": "execute_result"
    }
   ],
   "source": [
    "nt.a == nt[:a] && nt.a == nt[1]"
   ]
  },
  {
   "cell_type": "markdown",
   "metadata": {},
   "source": [
    "## Comprehensions"
   ]
  },
  {
   "cell_type": "code",
   "execution_count": 39,
   "metadata": {},
   "outputs": [
    {
     "data": {
      "text/plain": [
       "4×4 Array{Int64,2}:\n",
       " 0  1  2  3\n",
       " 1  2  3  4\n",
       " 2  3  4  5\n",
       " 3  4  5  6"
      ]
     },
     "execution_count": 39,
     "metadata": {},
     "output_type": "execute_result"
    }
   ],
   "source": [
    "# comprehension for shorhand of sequence / matrix construction\n",
    "[i + j for i in 0:3, j in 0:3]  # Constructing a 2D array"
   ]
  },
  {
   "cell_type": "code",
   "execution_count": 40,
   "metadata": {},
   "outputs": [
    {
     "data": {
      "text/plain": [
       "16-element Array{Int64,1}:\n",
       " 0\n",
       " 1\n",
       " 2\n",
       " 3\n",
       " 1\n",
       " 2\n",
       " 3\n",
       " 4\n",
       " 2\n",
       " 3\n",
       " 4\n",
       " 5\n",
       " 3\n",
       " 4\n",
       " 5\n",
       " 6"
      ]
     },
     "execution_count": 40,
     "metadata": {},
     "output_type": "execute_result"
    }
   ],
   "source": [
    "[i + j for i in 0:3 for j in 0:3] # Note the difference (a 1D array)"
   ]
  },
  {
   "cell_type": "markdown",
   "metadata": {},
   "source": [
    "## Dictionaries\n",
    "\n",
    "Mapping of `key` => `value`."
   ]
  },
  {
   "cell_type": "code",
   "execution_count": 41,
   "metadata": {},
   "outputs": [
    {
     "data": {
      "text/plain": [
       "Dict{String,String} with 3 entries:\n",
       "  \"two\"   => \"dos\"\n",
       "  \"one\"   => \"uno\"\n",
       "  \"three\" => \"tres\""
      ]
     },
     "execution_count": 41,
     "metadata": {},
     "output_type": "execute_result"
    }
   ],
   "source": [
    "eng2sp = Dict(\"one\" => \"uno\", \"two\" => \"dos\", \"three\" => \"tres\")"
   ]
  },
  {
   "cell_type": "code",
   "execution_count": 42,
   "metadata": {},
   "outputs": [
    {
     "name": "stdout",
     "output_type": "stream",
     "text": [
      "keys(eng2sp) = [\"two\", \"one\", \"three\"]\n"
     ]
    },
    {
     "data": {
      "text/plain": [
       "Base.KeySet for a Dict{String,String} with 3 entries. Keys:\n",
       "  \"two\"\n",
       "  \"one\"\n",
       "  \"three\""
      ]
     },
     "execution_count": 42,
     "metadata": {},
     "output_type": "execute_result"
    }
   ],
   "source": [
    "@show keys(eng2sp)"
   ]
  },
  {
   "cell_type": "code",
   "execution_count": 43,
   "metadata": {},
   "outputs": [
    {
     "name": "stdout",
     "output_type": "stream",
     "text": [
      "values(eng2sp) = [\"dos\", \"uno\", \"tres\"]\n"
     ]
    },
    {
     "data": {
      "text/plain": [
       "Base.ValueIterator for a Dict{String,String} with 3 entries. Values:\n",
       "  \"dos\"\n",
       "  \"uno\"\n",
       "  \"tres\""
      ]
     },
     "execution_count": 43,
     "metadata": {},
     "output_type": "execute_result"
    }
   ],
   "source": [
    "@show values(eng2sp)"
   ]
  },
  {
   "cell_type": "code",
   "execution_count": 44,
   "metadata": {},
   "outputs": [
    {
     "name": "stdout",
     "output_type": "stream",
     "text": [
      "eng2sp[\"one\"] = \"uno\"\n"
     ]
    },
    {
     "data": {
      "text/plain": [
       "\"uno\""
      ]
     },
     "execution_count": 44,
     "metadata": {},
     "output_type": "execute_result"
    }
   ],
   "source": [
    "@show eng2sp[\"one\"]"
   ]
  },
  {
   "cell_type": "code",
   "execution_count": 45,
   "metadata": {},
   "outputs": [
    {
     "name": "stdout",
     "output_type": "stream",
     "text": [
      "get(eng2sp, \"one\", \"N/A\") = \"uno\"\n"
     ]
    },
    {
     "data": {
      "text/plain": [
       "\"uno\""
      ]
     },
     "execution_count": 45,
     "metadata": {},
     "output_type": "execute_result"
    }
   ],
   "source": [
    "@show get(eng2sp, \"one\", \"N/A\")"
   ]
  },
  {
   "cell_type": "code",
   "execution_count": 46,
   "metadata": {},
   "outputs": [
    {
     "ename": "LoadError",
     "evalue": "KeyError: key \"four\" not found",
     "output_type": "error",
     "traceback": [
      "KeyError: key \"four\" not found",
      "",
      "Stacktrace:",
      " [1] getindex(::Dict{String,String}, ::String) at .\\dict.jl:467",
      " [2] top-level scope at show.jl:641",
      " [3] include_string(::Function, ::Module, ::String, ::String) at .\\loading.jl:1091",
      " [4] execute_code(::String, ::String) at C:\\Users\\sosiristseng\\.julia\\packages\\IJulia\\rWZ9e\\src\\execute_request.jl:27",
      " [5] execute_request(::ZMQ.Socket, ::IJulia.Msg) at C:\\Users\\sosiristseng\\.julia\\packages\\IJulia\\rWZ9e\\src\\execute_request.jl:86",
      " [6] #invokelatest#1 at .\\essentials.jl:710 [inlined]",
      " [7] invokelatest at .\\essentials.jl:709 [inlined]",
      " [8] eventloop(::ZMQ.Socket) at C:\\Users\\sosiristseng\\.julia\\packages\\IJulia\\rWZ9e\\src\\eventloop.jl:8",
      " [9] (::IJulia.var\"#15#18\")() at .\\task.jl:356"
     ]
    }
   ],
   "source": [
    "@show eng2sp[\"four\"]"
   ]
  },
  {
   "cell_type": "code",
   "execution_count": 47,
   "metadata": {},
   "outputs": [
    {
     "name": "stdout",
     "output_type": "stream",
     "text": [
      "get(eng2sp, \"four\", \"N/A\") = \"N/A\"\n"
     ]
    },
    {
     "data": {
      "text/plain": [
       "\"N/A\""
      ]
     },
     "execution_count": 47,
     "metadata": {},
     "output_type": "execute_result"
    }
   ],
   "source": [
    "@show get(eng2sp, \"four\", \"N/A\")"
   ]
  },
  {
   "cell_type": "code",
   "execution_count": 48,
   "metadata": {},
   "outputs": [
    {
     "name": "stdout",
     "output_type": "stream",
     "text": [
      "eng2sp[\"four\"] = \"cuatro\"\n"
     ]
    },
    {
     "data": {
      "text/plain": [
       "\"cuatro\""
      ]
     },
     "execution_count": 48,
     "metadata": {},
     "output_type": "execute_result"
    }
   ],
   "source": [
    "# Add entry\n",
    "eng2sp[\"four\"] = \"cuatro\"\n",
    "\n",
    "@show eng2sp[\"four\"]"
   ]
  },
  {
   "cell_type": "code",
   "execution_count": 49,
   "metadata": {},
   "outputs": [
    {
     "name": "stdout",
     "output_type": "stream",
     "text": [
      "two => dos\n",
      "four => cuatro\n",
      "one => uno\n",
      "three => tres\n"
     ]
    }
   ],
   "source": [
    "# Unordered keys\n",
    "for (k ,v) in eng2sp\n",
    "    println(k, \" => \", v)\n",
    "end"
   ]
  },
  {
   "cell_type": "code",
   "execution_count": 50,
   "metadata": {},
   "outputs": [
    {
     "name": "stdout",
     "output_type": "stream",
     "text": [
      "Dict(t) = Dict('a' => 1,'c' => 3,'b' => 2)\n"
     ]
    },
    {
     "data": {
      "text/plain": [
       "Dict{Char,Int64} with 3 entries:\n",
       "  'a' => 1\n",
       "  'c' => 3\n",
       "  'b' => 2"
      ]
     },
     "execution_count": 50,
     "metadata": {},
     "output_type": "execute_result"
    }
   ],
   "source": [
    "# Alternative ways to build a dict\n",
    "# From a tuple\n",
    "t = [('a', 1), ('c', 3), ('b', 2)]\n",
    "@show Dict(t)"
   ]
  },
  {
   "cell_type": "code",
   "execution_count": 51,
   "metadata": {},
   "outputs": [
    {
     "data": {
      "text/plain": [
       "Dict{Char,Int64} with 3 entries:\n",
       "  'a' => 1\n",
       "  'c' => 3\n",
       "  'b' => 2"
      ]
     },
     "execution_count": 51,
     "metadata": {},
     "output_type": "execute_result"
    }
   ],
   "source": [
    "d = Dict(zip(\"abc\", 1:3))"
   ]
  },
  {
   "cell_type": "markdown",
   "metadata": {},
   "source": [
    "## Custom data structures\n",
    "\n",
    "`struct` or `mutable struct`\n",
    "\n",
    "I recommend use `struct` with a helper: [Parameters.jl](https://github.com/mauro3/Parameters.jl)\n",
    "\n",
    "```julia\n",
    "using Pkg\n",
    "Pkg.add(\"Parameters\")\n",
    "```"
   ]
  },
  {
   "cell_type": "code",
   "execution_count": 52,
   "metadata": {},
   "outputs": [
    {
     "data": {
      "text/plain": [
       "Point"
      ]
     },
     "execution_count": 52,
     "metadata": {},
     "output_type": "execute_result"
    }
   ],
   "source": [
    "using Parameters\n",
    "\n",
    "# The famous point example\n",
    "@with_kw struct Point\n",
    "    x = 0.0\n",
    "    y = 0.0\n",
    "end"
   ]
  },
  {
   "cell_type": "code",
   "execution_count": 53,
   "metadata": {},
   "outputs": [
    {
     "data": {
      "text/plain": [
       "Point\n",
       "  x: Float64 0.0\n",
       "  y: Float64 0.0\n"
      ]
     },
     "execution_count": 53,
     "metadata": {},
     "output_type": "execute_result"
    }
   ],
   "source": [
    "origin = Point()  # Use default values"
   ]
  },
  {
   "cell_type": "code",
   "execution_count": 54,
   "metadata": {},
   "outputs": [
    {
     "data": {
      "text/plain": [
       "Point\n",
       "  x: Int64 1\n",
       "  y: Int64 2\n"
      ]
     },
     "execution_count": 54,
     "metadata": {},
     "output_type": "execute_result"
    }
   ],
   "source": [
    "pA = Point(1, 2)"
   ]
  },
  {
   "cell_type": "code",
   "execution_count": 55,
   "metadata": {},
   "outputs": [
    {
     "data": {
      "text/plain": [
       "distance (generic function with 2 methods)"
      ]
     },
     "execution_count": 55,
     "metadata": {},
     "output_type": "execute_result"
    }
   ],
   "source": [
    "# Define a function specialized to Point type\n",
    "distance(a::Point) = hypot(a.x, a.y)\n",
    "distance(a::Point, b::Point) = hypot(a.x - b.x, a.y - b.y)"
   ]
  },
  {
   "cell_type": "code",
   "execution_count": 56,
   "metadata": {},
   "outputs": [
    {
     "data": {
      "text/plain": [
       "true"
      ]
     },
     "execution_count": 56,
     "metadata": {},
     "output_type": "execute_result"
    }
   ],
   "source": [
    "distance(pA) ≈ sqrt(5)"
   ]
  },
  {
   "cell_type": "code",
   "execution_count": 57,
   "metadata": {},
   "outputs": [
    {
     "data": {
      "text/plain": [
       "2.0"
      ]
     },
     "execution_count": 57,
     "metadata": {},
     "output_type": "execute_result"
    }
   ],
   "source": [
    "pB = Point(pA; y=4)  # Reuse some of a's value\n",
    "distance(pA, pB)"
   ]
  }
 ],
 "metadata": {
  "kernelspec": {
   "display_name": "Julia 1.6.0-rc1",
   "language": "julia",
   "name": "julia-1.6"
  },
  "language_info": {
   "file_extension": ".jl",
   "mimetype": "application/julia",
   "name": "julia",
   "version": "1.6.0"
  }
 },
 "nbformat": 4,
 "nbformat_minor": 4
}
